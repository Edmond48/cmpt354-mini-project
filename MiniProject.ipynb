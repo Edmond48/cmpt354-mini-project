{
 "cells": [
  {
   "cell_type": "code",
   "execution_count": 8,
   "id": "0ddca934",
   "metadata": {},
   "outputs": [
    {
     "name": "stdout",
     "output_type": "stream",
     "text": [
      "The sql extension is already loaded. To reload it, use:\n",
      "  %reload_ext sql\n"
     ]
    }
   ],
   "source": [
    "%load_ext sql"
   ]
  },
  {
   "cell_type": "code",
   "execution_count": 9,
   "id": "3bba00d6",
   "metadata": {},
   "outputs": [
    {
     "data": {
      "text/plain": [
       "'Connected: @library.db'"
      ]
     },
     "execution_count": 9,
     "metadata": {},
     "output_type": "execute_result"
    }
   ],
   "source": [
    "%sql sqlite:///library.db"
   ]
  },
  {
   "cell_type": "code",
   "execution_count": 28,
   "id": "bad5a31a",
   "metadata": {},
   "outputs": [
    {
     "name": "stdout",
     "output_type": "stream",
     "text": [
      " * sqlite:///library.db\n",
      "Done.\n"
     ]
    },
    {
     "data": {
      "text/plain": [
       "[]"
      ]
     },
     "execution_count": 28,
     "metadata": {},
     "output_type": "execute_result"
    }
   ],
   "source": [
    "%%sql\n",
    "CREATE TABLE Entries(\n",
    "    entryID  INTEGER PRIMARY KEY,\n",
    "    title    VARCHAR(500) NOT NULL,\n",
    "    year     DATE,\n",
    "    author   VARCHAR(200),\n",
    "    category VARCHAR(100),\n",
    "    CHECK (category IN ('PRINT BOOK', 'ONLINE BOOK', 'MAGAZINE', 'JOURNAL', 'CD', 'RECORD') )\n",
    ");"
   ]
  },
  {
   "cell_type": "code",
   "execution_count": 24,
   "id": "a126a8cc",
   "metadata": {},
   "outputs": [
    {
     "name": "stdout",
     "output_type": "stream",
     "text": [
      " * sqlite:///library.db\n",
      "Done.\n"
     ]
    },
    {
     "data": {
      "text/plain": [
       "[]"
      ]
     },
     "execution_count": 24,
     "metadata": {},
     "output_type": "execute_result"
    }
   ],
   "source": [
    "%%sql\n",
    "CREATE TABLE Items(\n",
    "    itemID INTEGER PRIMARY KEY,\n",
    "    status VARCHAR(9) CHECK (status IN ('AVAILABLE', 'BORROWED') ),\n",
    "    entryID INTEGER,\n",
    "    FOREIGN KEY (entryID) REFERENCES Entries(entryID)\n",
    ");"
   ]
  },
  {
   "cell_type": "code",
   "execution_count": 9,
   "id": "55238293",
   "metadata": {},
   "outputs": [
    {
     "name": "stdout",
     "output_type": "stream",
     "text": [
      " * sqlite:///library.db\n",
      "Done.\n"
     ]
    },
    {
     "data": {
      "text/plain": [
       "[]"
      ]
     },
     "execution_count": 9,
     "metadata": {},
     "output_type": "execute_result"
    }
   ],
   "source": [
    "%%sql\n",
    "CREATE TABLE Patrons (\n",
    "    libraryID INTEGER PRIMARY KEY,\n",
    "    name VARCHAR(30) NOT NULL,\n",
    "    dob DATE,\n",
    "    phone VARCHAR(15) NOT NULL\n",
    ");"
   ]
  },
  {
   "cell_type": "code",
   "execution_count": 11,
   "id": "907cd616",
   "metadata": {},
   "outputs": [
    {
     "name": "stdout",
     "output_type": "stream",
     "text": [
      " * sqlite:///library.db\n",
      "Done.\n"
     ]
    },
    {
     "data": {
      "text/plain": [
       "[]"
      ]
     },
     "execution_count": 11,
     "metadata": {},
     "output_type": "execute_result"
    }
   ],
   "source": [
    "%%sql\n",
    "CREATE TABLE Events (\n",
    "    eventID INTEGER PRIMARY KEY,\n",
    "    name VARCHAR(200) NOT NULL,\n",
    "    time DATE,\n",
    "    location VARCHAR(10)\n",
    ");"
   ]
  },
  {
   "cell_type": "code",
   "execution_count": 12,
   "id": "65158df6",
   "metadata": {},
   "outputs": [
    {
     "name": "stdout",
     "output_type": "stream",
     "text": [
      " * sqlite:///library.db\n",
      "Done.\n"
     ]
    },
    {
     "data": {
      "text/plain": [
       "[]"
      ]
     },
     "execution_count": 12,
     "metadata": {},
     "output_type": "execute_result"
    }
   ],
   "source": [
    "%%sql\n",
    "CREATE TABLE Personnel (\n",
    "    personnelID INTEGER PRIMARY KEY,\n",
    "    name VARCHAR(30) NOT NULL,\n",
    "    dob DATE,\n",
    "    position VARCHAR(20) CHECK (position IN ('Librarian', 'Volunteer', 'Director', 'Manager', 'IT Technician') ),\n",
    "    email VARCHAR(50)\n",
    ");"
   ]
  },
  {
   "cell_type": "code",
   "execution_count": 25,
   "id": "27423cea",
   "metadata": {},
   "outputs": [
    {
     "name": "stdout",
     "output_type": "stream",
     "text": [
      " * sqlite:///library.db\n",
      "Done.\n"
     ]
    },
    {
     "data": {
      "text/plain": [
       "[]"
      ]
     },
     "execution_count": 25,
     "metadata": {},
     "output_type": "execute_result"
    }
   ],
   "source": [
    "%%sql\n",
    "CREATE TABLE Borrow (\n",
    "    borrowID INTEGER PRIMARY KEY,\n",
    "    itemID INTEGER,\n",
    "    libraryID INTEGER,\n",
    "    borrowDate DATE,\n",
    "    returnDate DATE,\n",
    "    returned VARCHAR(3) CHECK (returned IN ('Yes', 'No') ),\n",
    "    outstandingFee INTEGER CHECK (outstandingFee >= 0),\n",
    "    FOREIGN KEY (itemID) REFERENCES Items(itemID),\n",
    "    FOREIGN KEY (libraryID) REFERENCES Patrons(libraryID)\n",
    "    CHECK (borrowDate < returnDate)\n",
    ");"
   ]
  },
  {
   "cell_type": "code",
   "execution_count": 16,
   "id": "e45ef884",
   "metadata": {},
   "outputs": [
    {
     "name": "stdout",
     "output_type": "stream",
     "text": [
      " * sqlite:///library.db\n",
      "Done.\n"
     ]
    },
    {
     "data": {
      "text/plain": [
       "[]"
      ]
     },
     "execution_count": 16,
     "metadata": {},
     "output_type": "execute_result"
    }
   ],
   "source": [
    "%%sql\n",
    "CREATE TABLE Attend(\n",
    "    libraryID INTEGER,\n",
    "    eventID INTEGER,\n",
    "    PRIMARY KEY (libraryID, eventID),\n",
    "    FOREIGN KEY (libraryID) REFERENCES Patrons(libraryID),\n",
    "    FOREIGN KEY (eventID) REFERENCES Events(eventID)\n",
    ");"
   ]
  },
  {
   "cell_type": "code",
   "execution_count": 26,
   "id": "4ba7820e",
   "metadata": {},
   "outputs": [
    {
     "name": "stdout",
     "output_type": "stream",
     "text": [
      " * sqlite:///library.db\n",
      "Done.\n"
     ]
    },
    {
     "data": {
      "text/plain": [
       "[]"
      ]
     },
     "execution_count": 26,
     "metadata": {},
     "output_type": "execute_result"
    }
   ],
   "source": [
    "%%sql\n",
    "CREATE TRIGGER onBorrow\n",
    "AFTER INSERT ON Borrow\n",
    "WHEN NEW.returned=\"No\"\n",
    "BEGIN\n",
    "    UPDATE Items\n",
    "    SET status='BORROWED'\n",
    "    WHERE NEW.itemID = Items.itemID;\n",
    "END;"
   ]
  },
  {
   "cell_type": "code",
   "execution_count": 4,
   "id": "85315944",
   "metadata": {},
   "outputs": [
    {
     "name": "stdout",
     "output_type": "stream",
     "text": [
      " * sqlite:///library.db\n",
      "Done.\n"
     ]
    },
    {
     "data": {
      "text/plain": [
       "[]"
      ]
     },
     "execution_count": 4,
     "metadata": {},
     "output_type": "execute_result"
    }
   ],
   "source": [
    "%%sql\n",
    "DROP TRIGGER onReturn;"
   ]
  },
  {
   "cell_type": "code",
   "execution_count": 27,
   "id": "233e6b42",
   "metadata": {},
   "outputs": [
    {
     "name": "stdout",
     "output_type": "stream",
     "text": [
      " * sqlite:///library.db\n",
      "Done.\n"
     ]
    },
    {
     "data": {
      "text/plain": [
       "[]"
      ]
     },
     "execution_count": 27,
     "metadata": {},
     "output_type": "execute_result"
    }
   ],
   "source": [
    "%%sql\n",
    "CREATE TRIGGER onReturn\n",
    "AFTER UPDATE OF returned ON Borrow\n",
    "WHEN OLD.returned='No' AND NEW.returned='Yes'\n",
    "BEGIN\n",
    "    UPDATE Items\n",
    "    SET status='AVAILABLE'\n",
    "    WHERE NEW.itemID = Items.itemID;\n",
    "END;"
   ]
  },
  {
   "cell_type": "markdown",
   "id": "26010d33",
   "metadata": {},
   "source": [
    "('PRINT BOOK', 'ONLINE BOOK', 'MAGAZINE', 'JOURNAL', 'CD', 'RECORD')"
   ]
  },
  {
   "cell_type": "code",
   "execution_count": 30,
   "id": "3d41f179",
   "metadata": {},
   "outputs": [
    {
     "name": "stdout",
     "output_type": "stream",
     "text": [
      " * sqlite:///library.db\n",
      "14 rows affected.\n"
     ]
    },
    {
     "data": {
      "text/plain": [
       "[]"
      ]
     },
     "execution_count": 30,
     "metadata": {},
     "output_type": "execute_result"
    }
   ],
   "source": [
    "%%sql\n",
    "INSERT INTO Entries(title, year, author, category)\n",
    "VALUES\n",
    "    (\"Moby Dick\", 1851, \"Herman Melville\", \"PRINT BOOK\"),\n",
    "    (\"The Martian Chronicle\", 1950, \"Ray Bradbury\", \"PRINT BOOK\"),\n",
    "    (\"Data Structure and Algorithm in C++\", 2003 ,\"Michael Goodrich et al\", \"ONLINE BOOK\"),\n",
    "    (\"Nineteen Eighty-Four\", 1949, \"George Orwell\", \"ONLINE BOOK\"),\n",
    "    (\"V for Vendetta\", 2005, \"James McTeigue\", \"CD\"),\n",
    "    (\"National Geographic June\", 2023, \"Various\", \"MAGAZINE\"),\n",
    "    (\"National Geographic July\", 2023, \"Various\", \"MAGAZINE\"),\n",
    "    (\"National Geographic August\", 2022, \"Various\", \"MAGAZINE\"),\n",
    "    (\"Cosmopolitan January\", 2012, \"Various\", \"MAGAZINE\"),\n",
    "    (\"Nature May\", 2020, \"Various\", \"JOURNAL\"),\n",
    "    (\"Thriller\", 1982, \"Michael Jackson\", \"RECORD\"),\n",
    "    (\"Do Androids Dream of Electric Sheep\", 1968, \"Philip K. Dick\", \"PRINT BOOK\"),\n",
    "    (\"We Can Remember It for You Wholesale\", 1966, \"Philip K. Dick\", \"PRINT BOOK\"),\n",
    "    (\"The Matrix \", 1999, \"Joel Silver\", \"CD\");"
   ]
  },
  {
   "cell_type": "code",
   "execution_count": 11,
   "id": "045fdf41",
   "metadata": {},
   "outputs": [
    {
     "name": "stdout",
     "output_type": "stream",
     "text": [
      " * sqlite:///library.db\n",
      "Done.\n"
     ]
    },
    {
     "data": {
      "text/html": [
       "<table>\n",
       "    <thead>\n",
       "        <tr>\n",
       "            <th>entryID</th>\n",
       "            <th>title</th>\n",
       "            <th>year</th>\n",
       "            <th>author</th>\n",
       "            <th>category</th>\n",
       "        </tr>\n",
       "    </thead>\n",
       "    <tbody>\n",
       "        <tr>\n",
       "            <td>1</td>\n",
       "            <td>Moby Dick</td>\n",
       "            <td>1851</td>\n",
       "            <td>Herman Melville</td>\n",
       "            <td>PRINT BOOK</td>\n",
       "        </tr>\n",
       "        <tr>\n",
       "            <td>2</td>\n",
       "            <td>The Martian Chronicle</td>\n",
       "            <td>1950</td>\n",
       "            <td>Ray Bradbury</td>\n",
       "            <td>PRINT BOOK</td>\n",
       "        </tr>\n",
       "        <tr>\n",
       "            <td>3</td>\n",
       "            <td>Data Structure and Algorithm in C++</td>\n",
       "            <td>2003</td>\n",
       "            <td>Michael Goodrich et al</td>\n",
       "            <td>ONLINE BOOK</td>\n",
       "        </tr>\n",
       "        <tr>\n",
       "            <td>4</td>\n",
       "            <td>Nineteen Eighty-Four</td>\n",
       "            <td>1949</td>\n",
       "            <td>George Orwell</td>\n",
       "            <td>ONLINE BOOK</td>\n",
       "        </tr>\n",
       "        <tr>\n",
       "            <td>5</td>\n",
       "            <td>V for Vendetta</td>\n",
       "            <td>2005</td>\n",
       "            <td>James McTeigue</td>\n",
       "            <td>CD</td>\n",
       "        </tr>\n",
       "        <tr>\n",
       "            <td>6</td>\n",
       "            <td>National Geographic June</td>\n",
       "            <td>2023</td>\n",
       "            <td>Various</td>\n",
       "            <td>MAGAZINE</td>\n",
       "        </tr>\n",
       "        <tr>\n",
       "            <td>7</td>\n",
       "            <td>National Geographic July</td>\n",
       "            <td>2023</td>\n",
       "            <td>Various</td>\n",
       "            <td>MAGAZINE</td>\n",
       "        </tr>\n",
       "        <tr>\n",
       "            <td>8</td>\n",
       "            <td>National Geographic August</td>\n",
       "            <td>2022</td>\n",
       "            <td>Various</td>\n",
       "            <td>MAGAZINE</td>\n",
       "        </tr>\n",
       "        <tr>\n",
       "            <td>9</td>\n",
       "            <td>Cosmopolitan January</td>\n",
       "            <td>2012</td>\n",
       "            <td>Various</td>\n",
       "            <td>MAGAZINE</td>\n",
       "        </tr>\n",
       "        <tr>\n",
       "            <td>10</td>\n",
       "            <td>Nature May</td>\n",
       "            <td>2020</td>\n",
       "            <td>Various</td>\n",
       "            <td>JOURNAL</td>\n",
       "        </tr>\n",
       "        <tr>\n",
       "            <td>11</td>\n",
       "            <td>Thriller</td>\n",
       "            <td>1982</td>\n",
       "            <td>Michael Jackson</td>\n",
       "            <td>RECORD</td>\n",
       "        </tr>\n",
       "        <tr>\n",
       "            <td>12</td>\n",
       "            <td>Do Androids Dream of Electric Sheep</td>\n",
       "            <td>1968</td>\n",
       "            <td>Philip K. Dick</td>\n",
       "            <td>PRINT BOOK</td>\n",
       "        </tr>\n",
       "        <tr>\n",
       "            <td>13</td>\n",
       "            <td>We Can Remember It for You Wholesale</td>\n",
       "            <td>1966</td>\n",
       "            <td>Philip K. Dick</td>\n",
       "            <td>PRINT BOOK</td>\n",
       "        </tr>\n",
       "        <tr>\n",
       "            <td>14</td>\n",
       "            <td>The Matrix </td>\n",
       "            <td>1999</td>\n",
       "            <td>Joel Silver</td>\n",
       "            <td>CD</td>\n",
       "        </tr>\n",
       "        <tr>\n",
       "            <td>15</td>\n",
       "            <td>The Matrix</td>\n",
       "            <td>1999</td>\n",
       "            <td>Joel Silver</td>\n",
       "            <td>CD</td>\n",
       "        </tr>\n",
       "    </tbody>\n",
       "</table>"
      ],
      "text/plain": [
       "[(1, 'Moby Dick', 1851, 'Herman Melville', 'PRINT BOOK'),\n",
       " (2, 'The Martian Chronicle', 1950, 'Ray Bradbury', 'PRINT BOOK'),\n",
       " (3, 'Data Structure and Algorithm in C++', 2003, 'Michael Goodrich et al', 'ONLINE BOOK'),\n",
       " (4, 'Nineteen Eighty-Four', 1949, 'George Orwell', 'ONLINE BOOK'),\n",
       " (5, 'V for Vendetta', 2005, 'James McTeigue', 'CD'),\n",
       " (6, 'National Geographic June', 2023, 'Various', 'MAGAZINE'),\n",
       " (7, 'National Geographic July', 2023, 'Various', 'MAGAZINE'),\n",
       " (8, 'National Geographic August', 2022, 'Various', 'MAGAZINE'),\n",
       " (9, 'Cosmopolitan January', 2012, 'Various', 'MAGAZINE'),\n",
       " (10, 'Nature May', 2020, 'Various', 'JOURNAL'),\n",
       " (11, 'Thriller', 1982, 'Michael Jackson', 'RECORD'),\n",
       " (12, 'Do Androids Dream of Electric Sheep', 1968, 'Philip K. Dick', 'PRINT BOOK'),\n",
       " (13, 'We Can Remember It for You Wholesale', 1966, 'Philip K. Dick', 'PRINT BOOK'),\n",
       " (14, 'The Matrix ', 1999, 'Joel Silver', 'CD'),\n",
       " (15, 'The Matrix', 1999, 'Joel Silver', 'CD')]"
      ]
     },
     "execution_count": 11,
     "metadata": {},
     "output_type": "execute_result"
    }
   ],
   "source": [
    "%%sql\n",
    "SELECT * FROM Entries;"
   ]
  },
  {
   "cell_type": "code",
   "execution_count": 21,
   "id": "f0f027b2",
   "metadata": {},
   "outputs": [
    {
     "name": "stdout",
     "output_type": "stream",
     "text": [
      " * sqlite:///library.db\n",
      "1 rows affected.\n"
     ]
    },
    {
     "data": {
      "text/plain": [
       "[]"
      ]
     },
     "execution_count": 21,
     "metadata": {},
     "output_type": "execute_result"
    }
   ],
   "source": [
    "%%sql\n",
    "DELETE FROM Items WHERE entryID=90;"
   ]
  },
  {
   "cell_type": "code",
   "execution_count": 28,
   "id": "c88ab380",
   "metadata": {},
   "outputs": [
    {
     "name": "stdout",
     "output_type": "stream",
     "text": [
      " * sqlite:///library.db\n",
      "31 rows affected.\n"
     ]
    },
    {
     "data": {
      "text/plain": [
       "[]"
      ]
     },
     "execution_count": 28,
     "metadata": {},
     "output_type": "execute_result"
    }
   ],
   "source": [
    "%%sql\n",
    "INSERT INTO Items(status, entryID)\n",
    "VALUES\n",
    "    (\"AVAILABLE\", 14),\n",
    "    (\"AVAILABLE\", 13),\n",
    "    (\"AVAILABLE\", 12),\n",
    "    (\"AVAILABLE\", 11),\n",
    "    (\"AVAILABLE\", 10),\n",
    "    (\"AVAILABLE\", 9),\n",
    "    (\"AVAILABLE\", 8),\n",
    "    (\"AVAILABLE\", 7),\n",
    "    (\"AVAILABLE\", 6),\n",
    "    (\"AVAILABLE\", 5),\n",
    "    (\"AVAILABLE\", 4),\n",
    "    (\"AVAILABLE\", 3),\n",
    "    (\"AVAILABLE\", 2),\n",
    "    (\"AVAILABLE\", 1),\n",
    "    (\"AVAILABLE\", 1),\n",
    "    (\"AVAILABLE\", 1),\n",
    "    (\"AVAILABLE\", 2),\n",
    "    (\"AVAILABLE\", 3),\n",
    "    (\"AVAILABLE\", 4),\n",
    "    (\"AVAILABLE\", 5),\n",
    "    (\"AVAILABLE\", 6),\n",
    "    (\"AVAILABLE\", 7),\n",
    "    (\"AVAILABLE\", 8),\n",
    "    (\"AVAILABLE\", 9),\n",
    "    (\"AVAILABLE\", 10),\n",
    "    (\"AVAILABLE\", 11),\n",
    "    (\"AVAILABLE\", 12),\n",
    "    (\"AVAILABLE\", 13),\n",
    "    (\"AVAILABLE\", 14),\n",
    "    (\"AVAILABLE\", 14),\n",
    "    (\"AVAILABLE\", 13);"
   ]
  },
  {
   "cell_type": "code",
   "execution_count": 13,
   "id": "f6cda564",
   "metadata": {},
   "outputs": [
    {
     "name": "stdout",
     "output_type": "stream",
     "text": [
      " * sqlite:///library.db\n",
      "Done.\n"
     ]
    },
    {
     "data": {
      "text/html": [
       "<table>\n",
       "    <thead>\n",
       "        <tr>\n",
       "            <th>itemID</th>\n",
       "            <th>status</th>\n",
       "            <th>entryID</th>\n",
       "        </tr>\n",
       "    </thead>\n",
       "    <tbody>\n",
       "        <tr>\n",
       "            <td>1</td>\n",
       "            <td>AVAILABLE</td>\n",
       "            <td>14</td>\n",
       "        </tr>\n",
       "        <tr>\n",
       "            <td>2</td>\n",
       "            <td>BORROWED</td>\n",
       "            <td>13</td>\n",
       "        </tr>\n",
       "        <tr>\n",
       "            <td>3</td>\n",
       "            <td>BORROWED</td>\n",
       "            <td>12</td>\n",
       "        </tr>\n",
       "        <tr>\n",
       "            <td>4</td>\n",
       "            <td>BORROWED</td>\n",
       "            <td>11</td>\n",
       "        </tr>\n",
       "        <tr>\n",
       "            <td>5</td>\n",
       "            <td>AVAILABLE</td>\n",
       "            <td>10</td>\n",
       "        </tr>\n",
       "        <tr>\n",
       "            <td>6</td>\n",
       "            <td>AVAILABLE</td>\n",
       "            <td>9</td>\n",
       "        </tr>\n",
       "        <tr>\n",
       "            <td>7</td>\n",
       "            <td>BORROWED</td>\n",
       "            <td>8</td>\n",
       "        </tr>\n",
       "        <tr>\n",
       "            <td>8</td>\n",
       "            <td>AVAILABLE</td>\n",
       "            <td>7</td>\n",
       "        </tr>\n",
       "        <tr>\n",
       "            <td>9</td>\n",
       "            <td>AVAILABLE</td>\n",
       "            <td>6</td>\n",
       "        </tr>\n",
       "        <tr>\n",
       "            <td>10</td>\n",
       "            <td>AVAILABLE</td>\n",
       "            <td>5</td>\n",
       "        </tr>\n",
       "        <tr>\n",
       "            <td>11</td>\n",
       "            <td>AVAILABLE</td>\n",
       "            <td>4</td>\n",
       "        </tr>\n",
       "        <tr>\n",
       "            <td>12</td>\n",
       "            <td>AVAILABLE</td>\n",
       "            <td>3</td>\n",
       "        </tr>\n",
       "        <tr>\n",
       "            <td>13</td>\n",
       "            <td>BORROWED</td>\n",
       "            <td>2</td>\n",
       "        </tr>\n",
       "        <tr>\n",
       "            <td>14</td>\n",
       "            <td>AVAILABLE</td>\n",
       "            <td>1</td>\n",
       "        </tr>\n",
       "        <tr>\n",
       "            <td>15</td>\n",
       "            <td>AVAILABLE</td>\n",
       "            <td>1</td>\n",
       "        </tr>\n",
       "        <tr>\n",
       "            <td>16</td>\n",
       "            <td>BORROWED</td>\n",
       "            <td>1</td>\n",
       "        </tr>\n",
       "        <tr>\n",
       "            <td>17</td>\n",
       "            <td>AVAILABLE</td>\n",
       "            <td>2</td>\n",
       "        </tr>\n",
       "        <tr>\n",
       "            <td>18</td>\n",
       "            <td>AVAILABLE</td>\n",
       "            <td>3</td>\n",
       "        </tr>\n",
       "        <tr>\n",
       "            <td>19</td>\n",
       "            <td>AVAILABLE</td>\n",
       "            <td>4</td>\n",
       "        </tr>\n",
       "        <tr>\n",
       "            <td>20</td>\n",
       "            <td>AVAILABLE</td>\n",
       "            <td>5</td>\n",
       "        </tr>\n",
       "        <tr>\n",
       "            <td>21</td>\n",
       "            <td>AVAILABLE</td>\n",
       "            <td>6</td>\n",
       "        </tr>\n",
       "        <tr>\n",
       "            <td>22</td>\n",
       "            <td>AVAILABLE</td>\n",
       "            <td>7</td>\n",
       "        </tr>\n",
       "        <tr>\n",
       "            <td>23</td>\n",
       "            <td>AVAILABLE</td>\n",
       "            <td>8</td>\n",
       "        </tr>\n",
       "        <tr>\n",
       "            <td>24</td>\n",
       "            <td>AVAILABLE</td>\n",
       "            <td>9</td>\n",
       "        </tr>\n",
       "        <tr>\n",
       "            <td>25</td>\n",
       "            <td>AVAILABLE</td>\n",
       "            <td>10</td>\n",
       "        </tr>\n",
       "        <tr>\n",
       "            <td>26</td>\n",
       "            <td>AVAILABLE</td>\n",
       "            <td>11</td>\n",
       "        </tr>\n",
       "        <tr>\n",
       "            <td>27</td>\n",
       "            <td>AVAILABLE</td>\n",
       "            <td>12</td>\n",
       "        </tr>\n",
       "        <tr>\n",
       "            <td>28</td>\n",
       "            <td>AVAILABLE</td>\n",
       "            <td>13</td>\n",
       "        </tr>\n",
       "        <tr>\n",
       "            <td>29</td>\n",
       "            <td>AVAILABLE</td>\n",
       "            <td>14</td>\n",
       "        </tr>\n",
       "        <tr>\n",
       "            <td>30</td>\n",
       "            <td>AVAILABLE</td>\n",
       "            <td>14</td>\n",
       "        </tr>\n",
       "        <tr>\n",
       "            <td>31</td>\n",
       "            <td>AVAILABLE</td>\n",
       "            <td>13</td>\n",
       "        </tr>\n",
       "        <tr>\n",
       "            <td>32</td>\n",
       "            <td>AVAILABLE</td>\n",
       "            <td>15</td>\n",
       "        </tr>\n",
       "        <tr>\n",
       "            <td>33</td>\n",
       "            <td>AVAILABLE</td>\n",
       "            <td>15</td>\n",
       "        </tr>\n",
       "    </tbody>\n",
       "</table>"
      ],
      "text/plain": [
       "[(1, 'AVAILABLE', 14),\n",
       " (2, 'BORROWED', 13),\n",
       " (3, 'BORROWED', 12),\n",
       " (4, 'BORROWED', 11),\n",
       " (5, 'AVAILABLE', 10),\n",
       " (6, 'AVAILABLE', 9),\n",
       " (7, 'BORROWED', 8),\n",
       " (8, 'AVAILABLE', 7),\n",
       " (9, 'AVAILABLE', 6),\n",
       " (10, 'AVAILABLE', 5),\n",
       " (11, 'AVAILABLE', 4),\n",
       " (12, 'AVAILABLE', 3),\n",
       " (13, 'BORROWED', 2),\n",
       " (14, 'AVAILABLE', 1),\n",
       " (15, 'AVAILABLE', 1),\n",
       " (16, 'BORROWED', 1),\n",
       " (17, 'AVAILABLE', 2),\n",
       " (18, 'AVAILABLE', 3),\n",
       " (19, 'AVAILABLE', 4),\n",
       " (20, 'AVAILABLE', 5),\n",
       " (21, 'AVAILABLE', 6),\n",
       " (22, 'AVAILABLE', 7),\n",
       " (23, 'AVAILABLE', 8),\n",
       " (24, 'AVAILABLE', 9),\n",
       " (25, 'AVAILABLE', 10),\n",
       " (26, 'AVAILABLE', 11),\n",
       " (27, 'AVAILABLE', 12),\n",
       " (28, 'AVAILABLE', 13),\n",
       " (29, 'AVAILABLE', 14),\n",
       " (30, 'AVAILABLE', 14),\n",
       " (31, 'AVAILABLE', 13),\n",
       " (32, 'AVAILABLE', 15),\n",
       " (33, 'AVAILABLE', 15)]"
      ]
     },
     "execution_count": 13,
     "metadata": {},
     "output_type": "execute_result"
    }
   ],
   "source": [
    "%%sql\n",
    "SELECT * FROM Items"
   ]
  },
  {
   "cell_type": "code",
   "execution_count": 36,
   "id": "3ee4427a",
   "metadata": {},
   "outputs": [
    {
     "name": "stdout",
     "output_type": "stream",
     "text": [
      " * sqlite:///library.db\n",
      "10 rows affected.\n"
     ]
    },
    {
     "data": {
      "text/plain": [
       "[]"
      ]
     },
     "execution_count": 36,
     "metadata": {},
     "output_type": "execute_result"
    }
   ],
   "source": [
    "%%sql\n",
    "INSERT INTO Patrons(name, dob, phone)\n",
    "VALUES\n",
    "    (\"Alice\", \"1995-12-07\", \"+1-234-567-7890\"),\n",
    "    (\"Bob\", \"1997-04-30\", \"+84-843-257-345\"),\n",
    "    (\"Charlie\", \"1980-05-01\", \"1-778-890-2314\"),\n",
    "    (\"Yang\", \"1999-01-01\", \"+1-535-234-5473\"),\n",
    "    (\"Daniel\", \"2005-06-30\", \"322 456 1234\"),\n",
    "    (\"Ed\", \"2006-07-12\", \"097 780 4259\"),\n",
    "    (\"Frank Sinatta\", \"1993\", \"888 909 0634\"),\n",
    "    (\"Joyce\", \"1996-01-01\", \"+22 342 242 3221\"),\n",
    "    (\"Carl\", \"2004-02-29\", \"+1 234-334-5849\"),\n",
    "    (\"Yang\", \"1999-02-07\", \"567 891 0111\");"
   ]
  },
  {
   "cell_type": "code",
   "execution_count": 37,
   "id": "5e308123",
   "metadata": {},
   "outputs": [
    {
     "name": "stdout",
     "output_type": "stream",
     "text": [
      " * sqlite:///library.db\n",
      "Done.\n"
     ]
    },
    {
     "data": {
      "text/html": [
       "<table>\n",
       "    <thead>\n",
       "        <tr>\n",
       "            <th>libraryID</th>\n",
       "            <th>name</th>\n",
       "            <th>dob</th>\n",
       "            <th>phone</th>\n",
       "        </tr>\n",
       "    </thead>\n",
       "    <tbody>\n",
       "        <tr>\n",
       "            <td>1</td>\n",
       "            <td>Alice</td>\n",
       "            <td>1995-12-07</td>\n",
       "            <td>+1-234-567-7890</td>\n",
       "        </tr>\n",
       "        <tr>\n",
       "            <td>2</td>\n",
       "            <td>Bob</td>\n",
       "            <td>1997-04-30</td>\n",
       "            <td>+84-843-257-345</td>\n",
       "        </tr>\n",
       "        <tr>\n",
       "            <td>3</td>\n",
       "            <td>Charlie</td>\n",
       "            <td>1980-05-01</td>\n",
       "            <td>1-778-890-2314</td>\n",
       "        </tr>\n",
       "        <tr>\n",
       "            <td>4</td>\n",
       "            <td>Yang</td>\n",
       "            <td>1999-01-01</td>\n",
       "            <td>+1-535-234-5473</td>\n",
       "        </tr>\n",
       "        <tr>\n",
       "            <td>5</td>\n",
       "            <td>Daniel</td>\n",
       "            <td>2005-06-30</td>\n",
       "            <td>322 456 1234</td>\n",
       "        </tr>\n",
       "        <tr>\n",
       "            <td>6</td>\n",
       "            <td>Ed</td>\n",
       "            <td>2006-07-12</td>\n",
       "            <td>097 780 4259</td>\n",
       "        </tr>\n",
       "        <tr>\n",
       "            <td>7</td>\n",
       "            <td>Frank Sinatta</td>\n",
       "            <td>1993</td>\n",
       "            <td>888 909 0634</td>\n",
       "        </tr>\n",
       "        <tr>\n",
       "            <td>8</td>\n",
       "            <td>Joyce</td>\n",
       "            <td>1996-01-01</td>\n",
       "            <td>+22 342 242 3221</td>\n",
       "        </tr>\n",
       "        <tr>\n",
       "            <td>9</td>\n",
       "            <td>Carl</td>\n",
       "            <td>2004-02-29</td>\n",
       "            <td>+1 234-334-5849</td>\n",
       "        </tr>\n",
       "        <tr>\n",
       "            <td>10</td>\n",
       "            <td>Yang</td>\n",
       "            <td>1999-02-07</td>\n",
       "            <td>567 891 0111</td>\n",
       "        </tr>\n",
       "    </tbody>\n",
       "</table>"
      ],
      "text/plain": [
       "[(1, 'Alice', '1995-12-07', '+1-234-567-7890'),\n",
       " (2, 'Bob', '1997-04-30', '+84-843-257-345'),\n",
       " (3, 'Charlie', '1980-05-01', '1-778-890-2314'),\n",
       " (4, 'Yang', '1999-01-01', '+1-535-234-5473'),\n",
       " (5, 'Daniel', '2005-06-30', '322 456 1234'),\n",
       " (6, 'Ed', '2006-07-12', '097 780 4259'),\n",
       " (7, 'Frank Sinatta', 1993, '888 909 0634'),\n",
       " (8, 'Joyce', '1996-01-01', '+22 342 242 3221'),\n",
       " (9, 'Carl', '2004-02-29', '+1 234-334-5849'),\n",
       " (10, 'Yang', '1999-02-07', '567 891 0111')]"
      ]
     },
     "execution_count": 37,
     "metadata": {},
     "output_type": "execute_result"
    }
   ],
   "source": [
    "%%sql\n",
    "SELECT * FROM Patrons;"
   ]
  },
  {
   "cell_type": "code",
   "execution_count": 34,
   "id": "6ec0fe9a",
   "metadata": {},
   "outputs": [
    {
     "name": "stdout",
     "output_type": "stream",
     "text": [
      " * sqlite:///library.db\n",
      "1 rows affected.\n"
     ]
    },
    {
     "data": {
      "text/plain": [
       "[]"
      ]
     },
     "execution_count": 34,
     "metadata": {},
     "output_type": "execute_result"
    }
   ],
   "source": [
    "%%sql\n",
    "DELETE FROM Patrons WHERE true;"
   ]
  },
  {
   "cell_type": "code",
   "execution_count": 38,
   "id": "2591e1c1",
   "metadata": {},
   "outputs": [
    {
     "name": "stdout",
     "output_type": "stream",
     "text": [
      " * sqlite:///library.db\n",
      "10 rows affected.\n"
     ]
    },
    {
     "data": {
      "text/plain": [
       "[]"
      ]
     },
     "execution_count": 38,
     "metadata": {},
     "output_type": "execute_result"
    }
   ],
   "source": [
    "%%sql\n",
    "INSERT INTO Events(name, time, location)\n",
    "VALUES\n",
    "    (\"Annual Book Meeting 2023\", \"2023-07-31\", \"L4001\"),\n",
    "    (\"Fiction Diction\", \"2023-08-04\", \"G1234\"),\n",
    "    (\"Star Trek Club Monthly\", \"2023-07-01\", \"L1001\"),\n",
    "    (\"Star Trek Club Monthly\", \"2023-08-04\", \"L1001\"),\n",
    "    (\"Star Trek Club Monthly\", \"2023-09-03\", \"L1001\"),\n",
    "    (\"Star Trek Club Monthly\", \"2023-06-04\", \"L1001\"),\n",
    "    (\"Summer Sale\", \"2023-07-28\", \"ALL\"),\n",
    "    (\"Tea and Book\", \"2023-06-12\", \"DD5555\"),\n",
    "    (\"The Joy Luck Club\", \"2023-06-15\", \"JL0005\"),\n",
    "    (\"The Joy Luck Club\", \"2023-07-15\", \"JL0005\");"
   ]
  },
  {
   "cell_type": "code",
   "execution_count": 23,
   "id": "985bb999",
   "metadata": {},
   "outputs": [
    {
     "name": "stdout",
     "output_type": "stream",
     "text": [
      " * sqlite:///library.db\n",
      "Done.\n"
     ]
    },
    {
     "data": {
      "text/html": [
       "<table>\n",
       "    <thead>\n",
       "        <tr>\n",
       "            <th>eventID</th>\n",
       "            <th>name</th>\n",
       "            <th>time</th>\n",
       "            <th>location</th>\n",
       "        </tr>\n",
       "    </thead>\n",
       "    <tbody>\n",
       "        <tr>\n",
       "            <td>1</td>\n",
       "            <td>Annual Book Meeting 2023</td>\n",
       "            <td>2023-07-31</td>\n",
       "            <td>L4001</td>\n",
       "        </tr>\n",
       "        <tr>\n",
       "            <td>2</td>\n",
       "            <td>Fiction Diction</td>\n",
       "            <td>2023-08-04</td>\n",
       "            <td>G1234</td>\n",
       "        </tr>\n",
       "        <tr>\n",
       "            <td>3</td>\n",
       "            <td>Star Trek Club Monthly</td>\n",
       "            <td>2023-07-01</td>\n",
       "            <td>L1001</td>\n",
       "        </tr>\n",
       "        <tr>\n",
       "            <td>4</td>\n",
       "            <td>Star Trek Club Monthly</td>\n",
       "            <td>2023-08-04</td>\n",
       "            <td>L1001</td>\n",
       "        </tr>\n",
       "        <tr>\n",
       "            <td>5</td>\n",
       "            <td>Star Trek Club Monthly</td>\n",
       "            <td>2023-09-03</td>\n",
       "            <td>L1001</td>\n",
       "        </tr>\n",
       "        <tr>\n",
       "            <td>6</td>\n",
       "            <td>Star Trek Club Monthly</td>\n",
       "            <td>2023-06-04</td>\n",
       "            <td>L1001</td>\n",
       "        </tr>\n",
       "        <tr>\n",
       "            <td>7</td>\n",
       "            <td>Summer Sale</td>\n",
       "            <td>2023-07-28</td>\n",
       "            <td>ALL</td>\n",
       "        </tr>\n",
       "        <tr>\n",
       "            <td>8</td>\n",
       "            <td>Tea and Book</td>\n",
       "            <td>2023-06-12</td>\n",
       "            <td>DD5555</td>\n",
       "        </tr>\n",
       "        <tr>\n",
       "            <td>9</td>\n",
       "            <td>The Joy Luck Club</td>\n",
       "            <td>2023-06-15</td>\n",
       "            <td>JL0005</td>\n",
       "        </tr>\n",
       "        <tr>\n",
       "            <td>10</td>\n",
       "            <td>The Joy Luck Club</td>\n",
       "            <td>2023-07-15</td>\n",
       "            <td>JL0005</td>\n",
       "        </tr>\n",
       "    </tbody>\n",
       "</table>"
      ],
      "text/plain": [
       "[(1, 'Annual Book Meeting 2023', '2023-07-31', 'L4001'),\n",
       " (2, 'Fiction Diction', '2023-08-04', 'G1234'),\n",
       " (3, 'Star Trek Club Monthly', '2023-07-01', 'L1001'),\n",
       " (4, 'Star Trek Club Monthly', '2023-08-04', 'L1001'),\n",
       " (5, 'Star Trek Club Monthly', '2023-09-03', 'L1001'),\n",
       " (6, 'Star Trek Club Monthly', '2023-06-04', 'L1001'),\n",
       " (7, 'Summer Sale', '2023-07-28', 'ALL'),\n",
       " (8, 'Tea and Book', '2023-06-12', 'DD5555'),\n",
       " (9, 'The Joy Luck Club', '2023-06-15', 'JL0005'),\n",
       " (10, 'The Joy Luck Club', '2023-07-15', 'JL0005')]"
      ]
     },
     "execution_count": 23,
     "metadata": {},
     "output_type": "execute_result"
    }
   ],
   "source": [
    "%%sql\n",
    "SELECT * FROM Events"
   ]
  },
  {
   "cell_type": "markdown",
   "id": "197c8dc4",
   "metadata": {},
   "source": [
    "'Librarian', 'Volunteer', 'Director', 'Manager', 'IT Technician'"
   ]
  },
  {
   "cell_type": "code",
   "execution_count": 41,
   "id": "687dc596",
   "metadata": {},
   "outputs": [
    {
     "name": "stdout",
     "output_type": "stream",
     "text": [
      " * sqlite:///library.db\n",
      "10 rows affected.\n"
     ]
    },
    {
     "data": {
      "text/plain": [
       "[]"
      ]
     },
     "execution_count": 41,
     "metadata": {},
     "output_type": "execute_result"
    }
   ],
   "source": [
    "%%sql\n",
    "INSERT INTO Personnel(name, dob, position, email)\n",
    "VALUES\n",
    "    (\"Ezekiel\", \"2003-04-08\", \"Librarian\", \"eze.gg@hotmail.com\"),\n",
    "    (\"Xanatharl\", \"2000-11-09\", \"Director\", \"xlxlx.arl123@yahoo.com\"),\n",
    "    (\"Tsera\", \"1999-03-03\", \"IT Technician\", \"theitguy888@hmail.com\"),\n",
    "    (\"Manuel\", \"1977-10-12\", \"Librarian\", \"manueltheman0903@myspace.com\"),\n",
    "    (\"Eren\", \"1998-11-11\", \"Librarian\", \"friendlylibrarian@canlib.com\"),\n",
    "    (\"Andy\", \"2002-05-22\", \"IT Technician\", \"gaothettenem@yahoo.com\"),\n",
    "    (\"Colonel\", \"2003-08-08\", \"Manager\", \"boycodon1508@gmail.com\"),\n",
    "    (\"Matthew\", \"2001-09-18\", \"Manager\", \"anhkoghiban@inblind.com\"),\n",
    "    (\"Bilby\", \"1998-06-14\", \"Librarian\", \"den.hoi.tho.cuoi.cung@fyma.com\"),\n",
    "    (\"Ashok\", \"2002-12-31\", \"Librarian\", \"zebessinzewest@inblind.com\");"
   ]
  },
  {
   "cell_type": "code",
   "execution_count": 22,
   "id": "8fb6de3b",
   "metadata": {},
   "outputs": [
    {
     "name": "stdout",
     "output_type": "stream",
     "text": [
      " * sqlite:///library.db\n",
      "Done.\n"
     ]
    },
    {
     "data": {
      "text/html": [
       "<table>\n",
       "    <thead>\n",
       "        <tr>\n",
       "            <th>personnelID</th>\n",
       "            <th>name</th>\n",
       "            <th>dob</th>\n",
       "            <th>position</th>\n",
       "            <th>email</th>\n",
       "        </tr>\n",
       "    </thead>\n",
       "    <tbody>\n",
       "        <tr>\n",
       "            <td>1</td>\n",
       "            <td>Ezekiel</td>\n",
       "            <td>2003-04-08</td>\n",
       "            <td>Librarian</td>\n",
       "            <td>eze.gg@hotmail.com</td>\n",
       "        </tr>\n",
       "        <tr>\n",
       "            <td>2</td>\n",
       "            <td>Xanatharl</td>\n",
       "            <td>2000-11-09</td>\n",
       "            <td>Director</td>\n",
       "            <td>xlxlx.arl123@yahoo.com</td>\n",
       "        </tr>\n",
       "        <tr>\n",
       "            <td>3</td>\n",
       "            <td>Tsera</td>\n",
       "            <td>1999-03-03</td>\n",
       "            <td>IT Technician</td>\n",
       "            <td>theitguy888@hmail.com</td>\n",
       "        </tr>\n",
       "        <tr>\n",
       "            <td>4</td>\n",
       "            <td>Manuel</td>\n",
       "            <td>1977-10-12</td>\n",
       "            <td>Librarian</td>\n",
       "            <td>manueltheman0903@myspace.com</td>\n",
       "        </tr>\n",
       "        <tr>\n",
       "            <td>5</td>\n",
       "            <td>Eren</td>\n",
       "            <td>1998-11-11</td>\n",
       "            <td>Librarian</td>\n",
       "            <td>friendlylibrarian@canlib.com</td>\n",
       "        </tr>\n",
       "        <tr>\n",
       "            <td>6</td>\n",
       "            <td>Andy</td>\n",
       "            <td>2002-05-22</td>\n",
       "            <td>IT Technician</td>\n",
       "            <td>gaothettenem@yahoo.com</td>\n",
       "        </tr>\n",
       "        <tr>\n",
       "            <td>7</td>\n",
       "            <td>Colonel</td>\n",
       "            <td>2003-08-08</td>\n",
       "            <td>Manager</td>\n",
       "            <td>boycodon1508@gmail.com</td>\n",
       "        </tr>\n",
       "        <tr>\n",
       "            <td>8</td>\n",
       "            <td>Matthew</td>\n",
       "            <td>2001-09-18</td>\n",
       "            <td>Manager</td>\n",
       "            <td>anhkoghiban@inblind.com</td>\n",
       "        </tr>\n",
       "        <tr>\n",
       "            <td>9</td>\n",
       "            <td>Bilby</td>\n",
       "            <td>1998-06-14</td>\n",
       "            <td>Librarian</td>\n",
       "            <td>den.hoi.tho.cuoi.cung@fyma.com</td>\n",
       "        </tr>\n",
       "        <tr>\n",
       "            <td>10</td>\n",
       "            <td>Ashok</td>\n",
       "            <td>2002-12-31</td>\n",
       "            <td>Librarian</td>\n",
       "            <td>zebessinzewest@inblind.com</td>\n",
       "        </tr>\n",
       "        <tr>\n",
       "            <td>11</td>\n",
       "            <td>Kayla</td>\n",
       "            <td>2003-04-23</td>\n",
       "            <td>Volunteer</td>\n",
       "            <td>socsieuquay03@yahoo.com.vn</td>\n",
       "        </tr>\n",
       "    </tbody>\n",
       "</table>"
      ],
      "text/plain": [
       "[(1, 'Ezekiel', '2003-04-08', 'Librarian', 'eze.gg@hotmail.com'),\n",
       " (2, 'Xanatharl', '2000-11-09', 'Director', 'xlxlx.arl123@yahoo.com'),\n",
       " (3, 'Tsera', '1999-03-03', 'IT Technician', 'theitguy888@hmail.com'),\n",
       " (4, 'Manuel', '1977-10-12', 'Librarian', 'manueltheman0903@myspace.com'),\n",
       " (5, 'Eren', '1998-11-11', 'Librarian', 'friendlylibrarian@canlib.com'),\n",
       " (6, 'Andy', '2002-05-22', 'IT Technician', 'gaothettenem@yahoo.com'),\n",
       " (7, 'Colonel', '2003-08-08', 'Manager', 'boycodon1508@gmail.com'),\n",
       " (8, 'Matthew', '2001-09-18', 'Manager', 'anhkoghiban@inblind.com'),\n",
       " (9, 'Bilby', '1998-06-14', 'Librarian', 'den.hoi.tho.cuoi.cung@fyma.com'),\n",
       " (10, 'Ashok', '2002-12-31', 'Librarian', 'zebessinzewest@inblind.com'),\n",
       " (11, 'Kayla', '2003-04-23', 'Volunteer', 'socsieuquay03@yahoo.com.vn')]"
      ]
     },
     "execution_count": 22,
     "metadata": {},
     "output_type": "execute_result"
    }
   ],
   "source": [
    "%%sql\n",
    "SELECT * FROM Personnel"
   ]
  },
  {
   "cell_type": "code",
   "execution_count": 30,
   "id": "5e8eaa3a",
   "metadata": {},
   "outputs": [
    {
     "name": "stdout",
     "output_type": "stream",
     "text": [
      " * sqlite:///library.db\n",
      "10 rows affected.\n"
     ]
    },
    {
     "data": {
      "text/plain": [
       "[]"
      ]
     },
     "execution_count": 30,
     "metadata": {},
     "output_type": "execute_result"
    }
   ],
   "source": [
    "%%sql\n",
    "INSERT INTO Borrow(itemID, libraryID, borrowDate, returnDate, returned, outstandingFee)\n",
    "VALUES\n",
    "    (1, 1, \"2022-08-01\", \"2022-08-15\", \"Yes\", 0),\n",
    "    (1, 1, \"2022-08-17\", \"2022-08-24\", \"Yes\", 0),\n",
    "    (14, 5, \"2023-05-06\", \"2023-05-14\", \"Yes\", 15),\n",
    "    (12, 6, \"2023-05-07\", \"2023-05-15\", \"Yes\", 0),\n",
    "    (2, 3, \"2023-06-12\", \"2023-06-19\", \"No\", 15),\n",
    "    (10, 7, \"2023-06-15\", \"2023-06-29\", \"Yes\", 15),\n",
    "    (4, 4, \"2023-07-01\", \"2023-07-15\", \"No\", 15),\n",
    "    (3, 6, \"2023-07-15\", \"2023-07-29\", \"No\", 0),\n",
    "    (6, 9, \"2023-07-12\", \"2023-07-26\", \"Yes\", 0),\n",
    "    (7, 7, \"2023-07-22\", \"2023-08-04\", \"No\", 0);"
   ]
  },
  {
   "cell_type": "code",
   "execution_count": 31,
   "id": "d763f765",
   "metadata": {},
   "outputs": [
    {
     "name": "stdout",
     "output_type": "stream",
     "text": [
      " * sqlite:///library.db\n",
      "Done.\n"
     ]
    },
    {
     "data": {
      "text/html": [
       "<table>\n",
       "    <thead>\n",
       "        <tr>\n",
       "            <th>type</th>\n",
       "            <th>name</th>\n",
       "            <th>tbl_name</th>\n",
       "            <th>rootpage</th>\n",
       "            <th>sql</th>\n",
       "        </tr>\n",
       "    </thead>\n",
       "    <tbody>\n",
       "        <tr>\n",
       "            <td>trigger</td>\n",
       "            <td>onBorrow</td>\n",
       "            <td>Borrow</td>\n",
       "            <td>0</td>\n",
       "            <td>CREATE TRIGGER onBorrow<br>AFTER INSERT ON Borrow<br>WHEN NEW.returned=&quot;No&quot;<br>BEGIN<br>    UPDATE Items<br>    SET status=&#x27;BORROWED&#x27;<br>    WHERE NEW.itemID = Items.itemID;<br>END</td>\n",
       "        </tr>\n",
       "        <tr>\n",
       "            <td>trigger</td>\n",
       "            <td>onReturn</td>\n",
       "            <td>Borrow</td>\n",
       "            <td>0</td>\n",
       "            <td>CREATE TRIGGER onReturn<br>AFTER UPDATE OF returned ON Borrow<br>WHEN OLD.returned=&#x27;No&#x27; AND NEW.returned=&#x27;Yes&#x27;<br>BEGIN<br>    UPDATE Items<br>    SET status=&#x27;AVAILABLE&#x27;<br>    WHERE NEW.itemID = Items.itemID;<br>END</td>\n",
       "        </tr>\n",
       "    </tbody>\n",
       "</table>"
      ],
      "text/plain": [
       "[('trigger', 'onBorrow', 'Borrow', 0, 'CREATE TRIGGER onBorrow\\nAFTER INSERT ON Borrow\\nWHEN NEW.returned=\"No\"\\nBEGIN\\n    UPDATE Items\\n    SET status=\\'BORROWED\\'\\n    WHERE NEW.itemID = Items.itemID;\\nEND'),\n",
       " ('trigger', 'onReturn', 'Borrow', 0, \"CREATE TRIGGER onReturn\\nAFTER UPDATE OF returned ON Borrow\\nWHEN OLD.returned='No' AND NEW.returned='Yes'\\nBEGIN\\n    UPDATE Items\\n    SET status='AVAILABLE'\\n    WHERE NEW.itemID = Items.itemID;\\nEND\")]"
      ]
     },
     "execution_count": 31,
     "metadata": {},
     "output_type": "execute_result"
    }
   ],
   "source": [
    "%%sql\n",
    "select * from sqlite_master where type = 'trigger';"
   ]
  },
  {
   "cell_type": "code",
   "execution_count": 20,
   "id": "a6dcb53d",
   "metadata": {},
   "outputs": [
    {
     "name": "stdout",
     "output_type": "stream",
     "text": [
      " * sqlite:///library.db\n",
      "Done.\n"
     ]
    },
    {
     "data": {
      "text/html": [
       "<table>\n",
       "    <thead>\n",
       "        <tr>\n",
       "            <th>itemID</th>\n",
       "            <th>status</th>\n",
       "            <th>entryID</th>\n",
       "        </tr>\n",
       "    </thead>\n",
       "    <tbody>\n",
       "        <tr>\n",
       "            <td>1</td>\n",
       "            <td>AVAILABLE</td>\n",
       "            <td>14</td>\n",
       "        </tr>\n",
       "        <tr>\n",
       "            <td>2</td>\n",
       "            <td>BORROWED</td>\n",
       "            <td>13</td>\n",
       "        </tr>\n",
       "        <tr>\n",
       "            <td>3</td>\n",
       "            <td>BORROWED</td>\n",
       "            <td>12</td>\n",
       "        </tr>\n",
       "        <tr>\n",
       "            <td>4</td>\n",
       "            <td>BORROWED</td>\n",
       "            <td>11</td>\n",
       "        </tr>\n",
       "        <tr>\n",
       "            <td>5</td>\n",
       "            <td>AVAILABLE</td>\n",
       "            <td>10</td>\n",
       "        </tr>\n",
       "        <tr>\n",
       "            <td>6</td>\n",
       "            <td>AVAILABLE</td>\n",
       "            <td>9</td>\n",
       "        </tr>\n",
       "        <tr>\n",
       "            <td>7</td>\n",
       "            <td>BORROWED</td>\n",
       "            <td>8</td>\n",
       "        </tr>\n",
       "        <tr>\n",
       "            <td>8</td>\n",
       "            <td>AVAILABLE</td>\n",
       "            <td>7</td>\n",
       "        </tr>\n",
       "        <tr>\n",
       "            <td>9</td>\n",
       "            <td>AVAILABLE</td>\n",
       "            <td>6</td>\n",
       "        </tr>\n",
       "        <tr>\n",
       "            <td>10</td>\n",
       "            <td>AVAILABLE</td>\n",
       "            <td>5</td>\n",
       "        </tr>\n",
       "        <tr>\n",
       "            <td>11</td>\n",
       "            <td>AVAILABLE</td>\n",
       "            <td>4</td>\n",
       "        </tr>\n",
       "        <tr>\n",
       "            <td>12</td>\n",
       "            <td>AVAILABLE</td>\n",
       "            <td>3</td>\n",
       "        </tr>\n",
       "        <tr>\n",
       "            <td>13</td>\n",
       "            <td>BORROWED</td>\n",
       "            <td>2</td>\n",
       "        </tr>\n",
       "        <tr>\n",
       "            <td>14</td>\n",
       "            <td>AVAILABLE</td>\n",
       "            <td>1</td>\n",
       "        </tr>\n",
       "        <tr>\n",
       "            <td>15</td>\n",
       "            <td>AVAILABLE</td>\n",
       "            <td>1</td>\n",
       "        </tr>\n",
       "        <tr>\n",
       "            <td>16</td>\n",
       "            <td>BORROWED</td>\n",
       "            <td>1</td>\n",
       "        </tr>\n",
       "        <tr>\n",
       "            <td>17</td>\n",
       "            <td>AVAILABLE</td>\n",
       "            <td>2</td>\n",
       "        </tr>\n",
       "        <tr>\n",
       "            <td>18</td>\n",
       "            <td>AVAILABLE</td>\n",
       "            <td>3</td>\n",
       "        </tr>\n",
       "        <tr>\n",
       "            <td>19</td>\n",
       "            <td>AVAILABLE</td>\n",
       "            <td>4</td>\n",
       "        </tr>\n",
       "        <tr>\n",
       "            <td>20</td>\n",
       "            <td>AVAILABLE</td>\n",
       "            <td>5</td>\n",
       "        </tr>\n",
       "        <tr>\n",
       "            <td>21</td>\n",
       "            <td>AVAILABLE</td>\n",
       "            <td>6</td>\n",
       "        </tr>\n",
       "        <tr>\n",
       "            <td>22</td>\n",
       "            <td>AVAILABLE</td>\n",
       "            <td>7</td>\n",
       "        </tr>\n",
       "        <tr>\n",
       "            <td>23</td>\n",
       "            <td>AVAILABLE</td>\n",
       "            <td>8</td>\n",
       "        </tr>\n",
       "        <tr>\n",
       "            <td>24</td>\n",
       "            <td>AVAILABLE</td>\n",
       "            <td>9</td>\n",
       "        </tr>\n",
       "        <tr>\n",
       "            <td>25</td>\n",
       "            <td>AVAILABLE</td>\n",
       "            <td>10</td>\n",
       "        </tr>\n",
       "        <tr>\n",
       "            <td>26</td>\n",
       "            <td>AVAILABLE</td>\n",
       "            <td>11</td>\n",
       "        </tr>\n",
       "        <tr>\n",
       "            <td>27</td>\n",
       "            <td>AVAILABLE</td>\n",
       "            <td>12</td>\n",
       "        </tr>\n",
       "        <tr>\n",
       "            <td>28</td>\n",
       "            <td>AVAILABLE</td>\n",
       "            <td>13</td>\n",
       "        </tr>\n",
       "        <tr>\n",
       "            <td>29</td>\n",
       "            <td>AVAILABLE</td>\n",
       "            <td>14</td>\n",
       "        </tr>\n",
       "        <tr>\n",
       "            <td>30</td>\n",
       "            <td>AVAILABLE</td>\n",
       "            <td>14</td>\n",
       "        </tr>\n",
       "        <tr>\n",
       "            <td>31</td>\n",
       "            <td>AVAILABLE</td>\n",
       "            <td>13</td>\n",
       "        </tr>\n",
       "        <tr>\n",
       "            <td>32</td>\n",
       "            <td>AVAILABLE</td>\n",
       "            <td>15</td>\n",
       "        </tr>\n",
       "        <tr>\n",
       "            <td>33</td>\n",
       "            <td>AVAILABLE</td>\n",
       "            <td>15</td>\n",
       "        </tr>\n",
       "        <tr>\n",
       "            <td>34</td>\n",
       "            <td>AVAILABLE</td>\n",
       "            <td>90</td>\n",
       "        </tr>\n",
       "        <tr>\n",
       "            <td>35</td>\n",
       "            <td>AVAILABLE</td>\n",
       "            <td>16</td>\n",
       "        </tr>\n",
       "        <tr>\n",
       "            <td>36</td>\n",
       "            <td>AVAILABLE</td>\n",
       "            <td>16</td>\n",
       "        </tr>\n",
       "    </tbody>\n",
       "</table>"
      ],
      "text/plain": [
       "[(1, 'AVAILABLE', 14),\n",
       " (2, 'BORROWED', 13),\n",
       " (3, 'BORROWED', 12),\n",
       " (4, 'BORROWED', 11),\n",
       " (5, 'AVAILABLE', 10),\n",
       " (6, 'AVAILABLE', 9),\n",
       " (7, 'BORROWED', 8),\n",
       " (8, 'AVAILABLE', 7),\n",
       " (9, 'AVAILABLE', 6),\n",
       " (10, 'AVAILABLE', 5),\n",
       " (11, 'AVAILABLE', 4),\n",
       " (12, 'AVAILABLE', 3),\n",
       " (13, 'BORROWED', 2),\n",
       " (14, 'AVAILABLE', 1),\n",
       " (15, 'AVAILABLE', 1),\n",
       " (16, 'BORROWED', 1),\n",
       " (17, 'AVAILABLE', 2),\n",
       " (18, 'AVAILABLE', 3),\n",
       " (19, 'AVAILABLE', 4),\n",
       " (20, 'AVAILABLE', 5),\n",
       " (21, 'AVAILABLE', 6),\n",
       " (22, 'AVAILABLE', 7),\n",
       " (23, 'AVAILABLE', 8),\n",
       " (24, 'AVAILABLE', 9),\n",
       " (25, 'AVAILABLE', 10),\n",
       " (26, 'AVAILABLE', 11),\n",
       " (27, 'AVAILABLE', 12),\n",
       " (28, 'AVAILABLE', 13),\n",
       " (29, 'AVAILABLE', 14),\n",
       " (30, 'AVAILABLE', 14),\n",
       " (31, 'AVAILABLE', 13),\n",
       " (32, 'AVAILABLE', 15),\n",
       " (33, 'AVAILABLE', 15),\n",
       " (34, 'AVAILABLE', 90),\n",
       " (35, 'AVAILABLE', 16),\n",
       " (36, 'AVAILABLE', 16)]"
      ]
     },
     "execution_count": 20,
     "metadata": {},
     "output_type": "execute_result"
    }
   ],
   "source": [
    "%%sql\n",
    "SELECT * FROM Items;"
   ]
  },
  {
   "cell_type": "code",
   "execution_count": 19,
   "id": "546415b0",
   "metadata": {},
   "outputs": [
    {
     "name": "stdout",
     "output_type": "stream",
     "text": [
      " * sqlite:///library.db\n",
      "Done.\n"
     ]
    },
    {
     "data": {
      "text/html": [
       "<table>\n",
       "    <thead>\n",
       "        <tr>\n",
       "            <th>borrowID</th>\n",
       "            <th>itemID</th>\n",
       "            <th>libraryID</th>\n",
       "            <th>borrowDate</th>\n",
       "            <th>returnDate</th>\n",
       "            <th>returned</th>\n",
       "            <th>outstandingFee</th>\n",
       "        </tr>\n",
       "    </thead>\n",
       "    <tbody>\n",
       "        <tr>\n",
       "            <td>1</td>\n",
       "            <td>1</td>\n",
       "            <td>1</td>\n",
       "            <td>2022-08-01</td>\n",
       "            <td>2022-08-15</td>\n",
       "            <td>Yes</td>\n",
       "            <td>0</td>\n",
       "        </tr>\n",
       "        <tr>\n",
       "            <td>2</td>\n",
       "            <td>1</td>\n",
       "            <td>1</td>\n",
       "            <td>2022-08-17</td>\n",
       "            <td>2022-08-24</td>\n",
       "            <td>Yes</td>\n",
       "            <td>0</td>\n",
       "        </tr>\n",
       "        <tr>\n",
       "            <td>3</td>\n",
       "            <td>14</td>\n",
       "            <td>5</td>\n",
       "            <td>2023-05-06</td>\n",
       "            <td>2023-05-14</td>\n",
       "            <td>Yes</td>\n",
       "            <td>15</td>\n",
       "        </tr>\n",
       "        <tr>\n",
       "            <td>4</td>\n",
       "            <td>12</td>\n",
       "            <td>6</td>\n",
       "            <td>2023-05-07</td>\n",
       "            <td>2023-05-15</td>\n",
       "            <td>Yes</td>\n",
       "            <td>0</td>\n",
       "        </tr>\n",
       "        <tr>\n",
       "            <td>5</td>\n",
       "            <td>2</td>\n",
       "            <td>3</td>\n",
       "            <td>2023-06-12</td>\n",
       "            <td>2023-06-19</td>\n",
       "            <td>No</td>\n",
       "            <td>15</td>\n",
       "        </tr>\n",
       "        <tr>\n",
       "            <td>6</td>\n",
       "            <td>10</td>\n",
       "            <td>7</td>\n",
       "            <td>2023-06-15</td>\n",
       "            <td>2023-06-29</td>\n",
       "            <td>Yes</td>\n",
       "            <td>15</td>\n",
       "        </tr>\n",
       "        <tr>\n",
       "            <td>7</td>\n",
       "            <td>4</td>\n",
       "            <td>4</td>\n",
       "            <td>2023-07-01</td>\n",
       "            <td>2023-07-15</td>\n",
       "            <td>No</td>\n",
       "            <td>15</td>\n",
       "        </tr>\n",
       "        <tr>\n",
       "            <td>8</td>\n",
       "            <td>3</td>\n",
       "            <td>6</td>\n",
       "            <td>2023-07-15</td>\n",
       "            <td>2023-07-29</td>\n",
       "            <td>No</td>\n",
       "            <td>0</td>\n",
       "        </tr>\n",
       "        <tr>\n",
       "            <td>9</td>\n",
       "            <td>6</td>\n",
       "            <td>9</td>\n",
       "            <td>2023-07-12</td>\n",
       "            <td>2023-07-26</td>\n",
       "            <td>Yes</td>\n",
       "            <td>0</td>\n",
       "        </tr>\n",
       "        <tr>\n",
       "            <td>10</td>\n",
       "            <td>7</td>\n",
       "            <td>7</td>\n",
       "            <td>2023-07-22</td>\n",
       "            <td>2023-08-04</td>\n",
       "            <td>No</td>\n",
       "            <td>0</td>\n",
       "        </tr>\n",
       "    </tbody>\n",
       "</table>"
      ],
      "text/plain": [
       "[(1, 1, 1, '2022-08-01', '2022-08-15', 'Yes', 0),\n",
       " (2, 1, 1, '2022-08-17', '2022-08-24', 'Yes', 0),\n",
       " (3, 14, 5, '2023-05-06', '2023-05-14', 'Yes', 15),\n",
       " (4, 12, 6, '2023-05-07', '2023-05-15', 'Yes', 0),\n",
       " (5, 2, 3, '2023-06-12', '2023-06-19', 'No', 15),\n",
       " (6, 10, 7, '2023-06-15', '2023-06-29', 'Yes', 15),\n",
       " (7, 4, 4, '2023-07-01', '2023-07-15', 'No', 15),\n",
       " (8, 3, 6, '2023-07-15', '2023-07-29', 'No', 0),\n",
       " (9, 6, 9, '2023-07-12', '2023-07-26', 'Yes', 0),\n",
       " (10, 7, 7, '2023-07-22', '2023-08-04', 'No', 0)]"
      ]
     },
     "execution_count": 19,
     "metadata": {},
     "output_type": "execute_result"
    }
   ],
   "source": [
    "%%sql\n",
    "SELECT * FROM Borrow;"
   ]
  },
  {
   "cell_type": "code",
   "execution_count": 33,
   "id": "fcf1a1ad",
   "metadata": {},
   "outputs": [
    {
     "name": "stdout",
     "output_type": "stream",
     "text": [
      " * sqlite:///library.db\n",
      "10 rows affected.\n"
     ]
    },
    {
     "data": {
      "text/plain": [
       "[]"
      ]
     },
     "execution_count": 33,
     "metadata": {},
     "output_type": "execute_result"
    }
   ],
   "source": [
    "%%sql\n",
    "INSERT INTO Attend(libraryID, eventID)\n",
    "VALUES\n",
    "    (1, 10),\n",
    "    (1, 5),\n",
    "    (2, 7),\n",
    "    (7, 2),\n",
    "    (5, 10),\n",
    "    (3, 6),\n",
    "    (7, 6),\n",
    "    (2, 5),\n",
    "    (5, 4),\n",
    "    (7, 7);"
   ]
  },
  {
   "cell_type": "code",
   "execution_count": 24,
   "id": "156b79de",
   "metadata": {},
   "outputs": [
    {
     "name": "stdout",
     "output_type": "stream",
     "text": [
      " * sqlite:///library.db\n",
      "Done.\n"
     ]
    },
    {
     "data": {
      "text/html": [
       "<table>\n",
       "    <thead>\n",
       "        <tr>\n",
       "            <th>libraryID</th>\n",
       "            <th>eventID</th>\n",
       "        </tr>\n",
       "    </thead>\n",
       "    <tbody>\n",
       "        <tr>\n",
       "            <td>1</td>\n",
       "            <td>10</td>\n",
       "        </tr>\n",
       "        <tr>\n",
       "            <td>1</td>\n",
       "            <td>5</td>\n",
       "        </tr>\n",
       "        <tr>\n",
       "            <td>2</td>\n",
       "            <td>7</td>\n",
       "        </tr>\n",
       "        <tr>\n",
       "            <td>7</td>\n",
       "            <td>2</td>\n",
       "        </tr>\n",
       "        <tr>\n",
       "            <td>5</td>\n",
       "            <td>10</td>\n",
       "        </tr>\n",
       "        <tr>\n",
       "            <td>3</td>\n",
       "            <td>6</td>\n",
       "        </tr>\n",
       "        <tr>\n",
       "            <td>7</td>\n",
       "            <td>6</td>\n",
       "        </tr>\n",
       "        <tr>\n",
       "            <td>2</td>\n",
       "            <td>5</td>\n",
       "        </tr>\n",
       "        <tr>\n",
       "            <td>5</td>\n",
       "            <td>4</td>\n",
       "        </tr>\n",
       "        <tr>\n",
       "            <td>7</td>\n",
       "            <td>7</td>\n",
       "        </tr>\n",
       "    </tbody>\n",
       "</table>"
      ],
      "text/plain": [
       "[(1, 10),\n",
       " (1, 5),\n",
       " (2, 7),\n",
       " (7, 2),\n",
       " (5, 10),\n",
       " (3, 6),\n",
       " (7, 6),\n",
       " (2, 5),\n",
       " (5, 4),\n",
       " (7, 7)]"
      ]
     },
     "execution_count": 24,
     "metadata": {},
     "output_type": "execute_result"
    }
   ],
   "source": [
    "%%sql\n",
    "SELECT * FROM Attend"
   ]
  },
  {
   "cell_type": "code",
   "execution_count": 4,
   "id": "d8bfad48",
   "metadata": {},
   "outputs": [
    {
     "name": "stdout",
     "output_type": "stream",
     "text": [
      " * sqlite:///library.db\n",
      "Done.\n"
     ]
    },
    {
     "data": {
      "text/html": [
       "<table>\n",
       "    <thead>\n",
       "        <tr>\n",
       "            <th>borrowID</th>\n",
       "            <th>itemID</th>\n",
       "            <th>libraryID</th>\n",
       "            <th>borrowDate</th>\n",
       "            <th>returnDate</th>\n",
       "            <th>returned</th>\n",
       "            <th>outstandingFee</th>\n",
       "        </tr>\n",
       "    </thead>\n",
       "    <tbody>\n",
       "        <tr>\n",
       "            <td>1</td>\n",
       "            <td>1</td>\n",
       "            <td>1</td>\n",
       "            <td>2022-08-01</td>\n",
       "            <td>2022-08-15</td>\n",
       "            <td>Yes</td>\n",
       "            <td>0</td>\n",
       "        </tr>\n",
       "        <tr>\n",
       "            <td>2</td>\n",
       "            <td>1</td>\n",
       "            <td>1</td>\n",
       "            <td>2022-08-17</td>\n",
       "            <td>2022-08-24</td>\n",
       "            <td>Yes</td>\n",
       "            <td>0</td>\n",
       "        </tr>\n",
       "        <tr>\n",
       "            <td>3</td>\n",
       "            <td>14</td>\n",
       "            <td>5</td>\n",
       "            <td>2023-05-06</td>\n",
       "            <td>2023-05-14</td>\n",
       "            <td>Yes</td>\n",
       "            <td>15</td>\n",
       "        </tr>\n",
       "        <tr>\n",
       "            <td>4</td>\n",
       "            <td>12</td>\n",
       "            <td>6</td>\n",
       "            <td>2023-05-07</td>\n",
       "            <td>2023-05-15</td>\n",
       "            <td>Yes</td>\n",
       "            <td>0</td>\n",
       "        </tr>\n",
       "        <tr>\n",
       "            <td>5</td>\n",
       "            <td>2</td>\n",
       "            <td>3</td>\n",
       "            <td>2023-06-12</td>\n",
       "            <td>2023-06-19</td>\n",
       "            <td>No</td>\n",
       "            <td>15</td>\n",
       "        </tr>\n",
       "        <tr>\n",
       "            <td>6</td>\n",
       "            <td>10</td>\n",
       "            <td>7</td>\n",
       "            <td>2023-06-15</td>\n",
       "            <td>2023-06-29</td>\n",
       "            <td>Yes</td>\n",
       "            <td>15</td>\n",
       "        </tr>\n",
       "        <tr>\n",
       "            <td>7</td>\n",
       "            <td>4</td>\n",
       "            <td>4</td>\n",
       "            <td>2023-07-01</td>\n",
       "            <td>2023-07-15</td>\n",
       "            <td>No</td>\n",
       "            <td>15</td>\n",
       "        </tr>\n",
       "        <tr>\n",
       "            <td>8</td>\n",
       "            <td>3</td>\n",
       "            <td>6</td>\n",
       "            <td>2023-07-15</td>\n",
       "            <td>2023-07-29</td>\n",
       "            <td>No</td>\n",
       "            <td>0</td>\n",
       "        </tr>\n",
       "        <tr>\n",
       "            <td>9</td>\n",
       "            <td>6</td>\n",
       "            <td>9</td>\n",
       "            <td>2023-07-12</td>\n",
       "            <td>2023-07-26</td>\n",
       "            <td>Yes</td>\n",
       "            <td>0</td>\n",
       "        </tr>\n",
       "        <tr>\n",
       "            <td>10</td>\n",
       "            <td>7</td>\n",
       "            <td>7</td>\n",
       "            <td>2023-07-22</td>\n",
       "            <td>2023-08-04</td>\n",
       "            <td>No</td>\n",
       "            <td>0</td>\n",
       "        </tr>\n",
       "        <tr>\n",
       "            <td>11</td>\n",
       "            <td>14</td>\n",
       "            <td>1</td>\n",
       "            <td>2023-07-29</td>\n",
       "            <td>2023-08-12</td>\n",
       "            <td>No</td>\n",
       "            <td>0</td>\n",
       "        </tr>\n",
       "        <tr>\n",
       "            <td>12</td>\n",
       "            <td>15</td>\n",
       "            <td>1</td>\n",
       "            <td>2023-07-29</td>\n",
       "            <td>2023-08-12</td>\n",
       "            <td>No</td>\n",
       "            <td>0</td>\n",
       "        </tr>\n",
       "        <tr>\n",
       "            <td>13</td>\n",
       "            <td>16</td>\n",
       "            <td>1</td>\n",
       "            <td>2023-07-29</td>\n",
       "            <td>2023-08-12</td>\n",
       "            <td>No</td>\n",
       "            <td>0</td>\n",
       "        </tr>\n",
       "        <tr>\n",
       "            <td>14</td>\n",
       "            <td>13</td>\n",
       "            <td>2</td>\n",
       "            <td>2023-07-29</td>\n",
       "            <td>2023-08-12</td>\n",
       "            <td>No</td>\n",
       "            <td>0</td>\n",
       "        </tr>\n",
       "    </tbody>\n",
       "</table>"
      ],
      "text/plain": [
       "[(1, 1, 1, '2022-08-01', '2022-08-15', 'Yes', 0),\n",
       " (2, 1, 1, '2022-08-17', '2022-08-24', 'Yes', 0),\n",
       " (3, 14, 5, '2023-05-06', '2023-05-14', 'Yes', 15),\n",
       " (4, 12, 6, '2023-05-07', '2023-05-15', 'Yes', 0),\n",
       " (5, 2, 3, '2023-06-12', '2023-06-19', 'No', 15),\n",
       " (6, 10, 7, '2023-06-15', '2023-06-29', 'Yes', 15),\n",
       " (7, 4, 4, '2023-07-01', '2023-07-15', 'No', 15),\n",
       " (8, 3, 6, '2023-07-15', '2023-07-29', 'No', 0),\n",
       " (9, 6, 9, '2023-07-12', '2023-07-26', 'Yes', 0),\n",
       " (10, 7, 7, '2023-07-22', '2023-08-04', 'No', 0),\n",
       " (11, 14, 1, '2023-07-29', '2023-08-12', 'No', 0),\n",
       " (12, 15, 1, '2023-07-29', '2023-08-12', 'No', 0),\n",
       " (13, 16, 1, '2023-07-29', '2023-08-12', 'No', 0),\n",
       " (14, 13, 2, '2023-07-29', '2023-08-12', 'No', 0)]"
      ]
     },
     "execution_count": 4,
     "metadata": {},
     "output_type": "execute_result"
    }
   ],
   "source": [
    "%%sql\n",
    "SELECT * FROM Borrow"
   ]
  },
  {
   "cell_type": "code",
   "execution_count": 19,
   "id": "1c2a3152",
   "metadata": {},
   "outputs": [
    {
     "name": "stdout",
     "output_type": "stream",
     "text": [
      " * sqlite:///library.db\n",
      "Done.\n"
     ]
    },
    {
     "data": {
      "text/plain": [
       "[]"
      ]
     },
     "execution_count": 19,
     "metadata": {},
     "output_type": "execute_result"
    }
   ],
   "source": [
    "%%sql\n",
    "PRAGMA foreign_keys=1;"
   ]
  },
  {
   "cell_type": "code",
   "execution_count": null,
   "id": "156f6f29",
   "metadata": {},
   "outputs": [],
   "source": []
  }
 ],
 "metadata": {
  "kernelspec": {
   "display_name": "Python 3 (ipykernel)",
   "language": "python",
   "name": "python3"
  },
  "language_info": {
   "codemirror_mode": {
    "name": "ipython",
    "version": 3
   },
   "file_extension": ".py",
   "mimetype": "text/x-python",
   "name": "python",
   "nbconvert_exporter": "python",
   "pygments_lexer": "ipython3",
   "version": "3.10.9"
  }
 },
 "nbformat": 4,
 "nbformat_minor": 5
}
